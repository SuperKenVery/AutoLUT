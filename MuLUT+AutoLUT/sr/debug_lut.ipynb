{
 "cells": [
  {
   "cell_type": "code",
   "execution_count": 37,
   "metadata": {},
   "outputs": [
    {
     "name": "stderr",
     "output_type": "stream",
     "text": [
      "/tmp/ipykernel_1278926/4056868467.py:15: FutureWarning: You are using `torch.load` with `weights_only=False` (the current default value), which uses the default pickle module implicitly. It is possible to construct malicious pickle data which will execute arbitrary code during unpickling (See https://github.com/pytorch/pytorch/blob/main/SECURITY.md#untrusted-models for more details). In a future release, the default value for `weights_only` will be flipped to `True`. This limits the functions that could be executed during unpickling. Arbitrary objects will no longer be allowed to be loaded via this mode unless they are explicitly allowlisted by the user via `torch.serialization.add_safe_globals`. We recommend you start setting `weights_only=True` for any use case where you don't have full control of the loaded file. Please open an issue on GitHub for any issues related to this experimental feature.\n",
      "  ckpt=torch.load(\"../models/no_res_bug/3x3-export/Model_800000.pth\")\n"
     ]
    }
   ],
   "source": [
    "import os\n",
    "os.environ[\"CUDA_VISIBLE_DEVICES\"]=\"0\"\n",
    "from model import SRNets, SRNet, AutoLUT, round_func\n",
    "import sys\n",
    "sys.path.insert(0, \"../\")\n",
    "from common.network import MuLUTUnit, SRNet, Residual, AutoSample\n",
    "import torch\n",
    "import numpy as np\n",
    "from torch.nn import functional as F\n",
    "from PIL import Image\n",
    "from matplotlib import pyplot as plt\n",
    "import torchvision\n",
    "\n",
    "network=SRNets(3, 3).cuda().eval()\n",
    "ckpt=torch.load(\"../models/no_res_bug/3x3-export/Model_800000.pth\")\n",
    "network.load_state_dict(ckpt.state_dict(), strict=True)\n",
    "lutnet=AutoLUT(\"../models/no_res_bug/3x3-export\", 2, 3, 3).cuda().eval()\n",
    "\n",
    "def showimg(image, plot=plt):\n",
    "    # N,C,H,W -> H,W,C\n",
    "    image=np.array(image.detach().cpu())\n",
    "    N,C,H,W=image.shape\n",
    "    assert N==1\n",
    "    image=image.reshape(C,H,W).transpose(1,2,0)\n",
    "    if plot==plt: plt.figure()\n",
    "    plot.imshow(image, cmap='gray' if C==1 else None, vmin=0, vmax=1)\n",
    "\n",
    "def psnr(a,b):\n",
    "    from common.utils import PSNR, _rgb2ycbcr\n",
    "    def transform(x):\n",
    "        x=x*255\n",
    "        x=x.squeeze(0)\n",
    "        x=torch.transpose(x, 0, 1)\n",
    "        x=torch.transpose(x, 1, 2)\n",
    "        x=torch.clamp(x, 0, 255)\n",
    "        x=torch.round(x).to(torch.uint8)\n",
    "        return x\n",
    "\n",
    "    a=transform(a)\n",
    "    b=transform(b)\n",
    "    left, right = _rgb2ycbcr(a)[:,:,0], _rgb2ycbcr(b)[:,:,0]\n",
    "    result=PSNR(left, right, 4)\n",
    "    return result,a,b\n"
   ]
  },
  {
   "cell_type": "code",
   "execution_count": 51,
   "metadata": {},
   "outputs": [
    {
     "name": "stdout",
     "output_type": "stream",
     "text": [
      "tensor([[[[0.5252, 0.9092, 0.7998],\n",
      "          [0.1844, 0.1096, 0.6927],\n",
      "          [1.0000, 0.9297, 0.8153]]]], device='cuda:0')\n"
     ]
    },
    {
     "data": {
      "image/png": "[encoded data removed]",
      "text/plain": [
       "<Figure size 640x480 with 1 Axes>"
      ]
     },
     "metadata": {},
     "output_type": "display_data"
    }
   ],
   "source": [
    "N,C,H,W=1,1,3,3\n",
    "# small_img=torch.Tensor([1,5,8,9,6,5,4,8,7,3,4,6,6,5,3,4,5,5,3,2,1,0,9,7,5][:N*C*H*W]).cuda()\n",
    "# small_img=torch.ones_like(small_img)\n",
    "small_img = torch.rand(N,C,H,W).cuda()\n",
    "small_img=small_img.reshape([N,C,H,W])\n",
    "small_img=small_img/small_img.max()\n",
    "showimg(small_img)\n",
    "print(small_img)"
   ]
  },
  {
   "cell_type": "code",
   "execution_count": 39,
   "metadata": {},
   "outputs": [
    {
     "name": "stdout",
     "output_type": "stream",
     "text": [
      "tensor([[[[0.8859, 0.3009],\n",
      "          [0.8051, 0.6822]]]], device='cuda:0',\n",
      "       grad_fn=<PixelShuffleBackward0>)\n",
      "tensor([[[[0.8859, 0.3009],\n",
      "          [0.8051, 0.6822]]]], device='cuda:0', grad_fn=<CatBackward0>)\n"
     ]
    },
    {
     "data": {
      "image/png": "[encoded data removed]",
      "text/plain": [
       "<Figure size 640x480 with 2 Axes>"
      ]
     },
     "metadata": {},
     "output_type": "display_data"
    }
   ],
   "source": [
    "# Sample\n",
    "fig, (pa,pb)=plt.subplots(1,2)\n",
    "key='s0_1'\n",
    "\n",
    "# sr net\n",
    "module=getattr(network, key)\n",
    "sampled=module.sampler(small_img)\n",
    "showimg(sampled,pa)\n",
    "print(sampled)\n",
    "\n",
    "# lut\n",
    "sampler=getattr(lutnet, key+'_sampler')\n",
    "a,b,c,d=lutnet.sample(sampler,small_img)\n",
    "up=torch.concat([a,b], dim=3)\n",
    "down=torch.concat([c,d], dim=3)\n",
    "lut_sampled=torch.concat([up,down], dim=2)\n",
    "showimg(lut_sampled,pb)\n",
    "print(lut_sampled)\n",
    "\n",
    "assert (sampled==lut_sampled).all()"
   ]
  },
  {
   "cell_type": "code",
   "execution_count": 40,
   "metadata": {},
   "outputs": [
    {
     "name": "stdout",
     "output_type": "stream",
     "text": [
      "tensor(-1., device='cuda:0', grad_fn=<MinBackward1>) tensor(-1., device='cuda:0', grad_fn=<MaxBackward1>)\n",
      "tensor([[[[0.]]]], device='cuda:0', grad_fn=<DivBackward0>)\n",
      "ups plus tensor([[[[0.]]]], device='cuda:0', grad_fn=<DivBackward0>)\n",
      "ups minus tensor([[[[0.5585]]]], device='cuda:0', grad_fn=<DivBackward0>)\n",
      "tensor(-127., device='cuda:0', grad_fn=<MinBackward1>) tensor(-127., device='cuda:0', grad_fn=<MaxBackward1>)\n",
      "tensor([[[[0.0039]]]], device='cuda:0', grad_fn=<DivBackward0>)\n"
     ]
    },
    {
     "data": {
      "text/plain": [
       "tensor([[[[-0.0039]]]], device='cuda:0', grad_fn=<SubBackward0>)"
      ]
     },
     "execution_count": 40,
     "metadata": {},
     "output_type": "execute_result"
    },
    {
     "data": {
      "image/png": "[encoded data removed]",
      "text/plain": [
       "<Figure size 640x480 with 2 Axes>"
      ]
     },
     "metadata": {},
     "output_type": "display_data"
    }
   ],
   "source": [
    "# One MuLUTUnit\n",
    "key = 's0_0'\n",
    "fig, (pa, pb,)=plt.subplots(1,2)\n",
    "\n",
    "# sr net\n",
    "module=getattr(network, key)\n",
    "upscaled=module(small_img)\n",
    "print(upscaled.min(), upscaled.max())\n",
    "upscaled=(upscaled+1)/2\n",
    "showimg(upscaled,pa)\n",
    "print(upscaled)\n",
    "\n",
    "# lut+1\n",
    "ups_plus=module((small_img*255+1)/255)\n",
    "ups_plus=(ups_plus+1)/2\n",
    "print(\"ups plus\",ups_plus)\n",
    "\n",
    "# lut\n",
    "ups_minus=module(torch.ones_like(small_img)*240/255)\n",
    "ups_minus=(ups_minus+1)/2\n",
    "print(\"ups minus\",ups_minus)\n",
    "\n",
    "# lut\n",
    "lut_ups=lutnet.InterpTorchBatch(\n",
    "    getattr(lutnet, 'weight_'+key), getattr(lutnet, key+'_residual'), getattr(lutnet, key+'_sampler'),\n",
    "    1, small_img*255, None, 3-1\n",
    ")\n",
    "print(lut_ups.min(), lut_ups.max())\n",
    "lut_ups=(lut_ups+128)/255\n",
    "showimg(lut_ups, pb)\n",
    "print(lut_ups)\n",
    "\n",
    "upscaled-lut_ups"
   ]
  },
  {
   "cell_type": "code",
   "execution_count": 41,
   "metadata": {},
   "outputs": [
    {
     "name": "stdout",
     "output_type": "stream",
     "text": [
      "upscaled: tensor(0., device='cuda:0', grad_fn=<MulBackward0>)\n",
      "lut: tensor(1., device='cuda:0', grad_fn=<MulBackward0>)\n"
     ]
    }
   ],
   "source": [
    "print(\"upscaled:\", upscaled.reshape(-1)[0]*255)\n",
    "print(\"lut:\", lut_ups.reshape(-1)[0]*255)"
   ]
  },
  {
   "cell_type": "code",
   "execution_count": 42,
   "metadata": {},
   "outputs": [
    {
     "data": {
      "text/plain": [
       "tensor([[[[-1.]]]], device='cuda:0', grad_fn=<Col2ImBackward0>)"
      ]
     },
     "metadata": {},
     "output_type": "display_data"
    },
    {
     "data": {
      "text/plain": [
       "tensor(0., device='cuda:0')"
      ]
     },
     "metadata": {},
     "output_type": "display_data"
    },
    {
     "data": {
      "text/plain": [
       "tensor(0.0039, device='cuda:0')"
      ]
     },
     "metadata": {},
     "output_type": "display_data"
    }
   ],
   "source": [
    "srnet=getattr(network, key)\n",
    "unfolded, shape=srnet.unfold(small_img)\n",
    "sampled=srnet.sampler(unfolded)\n",
    "ups=srnet.model(sampled)\n",
    "upscaled=srnet.put_back(ups, shape)\n",
    "display(upscaled)\n",
    "stored_lut=(upscaled*127).to(torch.int8) #-128~127\n",
    "color=stored_lut.reshape(-1)[0].to(torch.float)\n",
    "display((color+127)/255)\n",
    "\n",
    "stored_next=(upscaled*127+1).to(torch.int8)\n",
    "color=stored_next.reshape(-1)[0].to(torch.float)\n",
    "display((color+127)/255)"
   ]
  },
  {
   "cell_type": "code",
   "execution_count": 56,
   "metadata": {},
   "outputs": [
    {
     "name": "stdout",
     "output_type": "stream",
     "text": [
      "diff tensor(-45., device='cuda:0', grad_fn=<MinBackward1>) tensor(22.0000, device='cuda:0', grad_fn=<MaxBackward1>)\n"
     ]
    },
    {
     "data": {
      "image/png": "[encoded data removed]",
      "text/plain": [
       "<Figure size 640x480 with 3 Axes>"
      ]
     },
     "metadata": {},
     "output_type": "display_data"
    }
   ],
   "source": [
    "fig, (pa, pb, pc, )=plt.subplots(1,3)\n",
    "sr_upscaled=network(small_img)\n",
    "lut_upscaled=lutnet(small_img)\n",
    "showimg(small_img, pc)\n",
    "showimg(sr_upscaled,pa)\n",
    "showimg(lut_upscaled,pb)\n",
    "diff=(sr_upscaled-lut_upscaled)*255\n",
    "print(\"diff\", diff.min(), diff.max())"
   ]
  },
  {
   "cell_type": "code",
   "execution_count": 44,
   "metadata": {},
   "outputs": [
    {
     "name": "stdout",
     "output_type": "stream",
     "text": [
      "key: s0_0\n",
      "p0000 tensor([[0.0039]], device='cuda:0', grad_fn=<DivBackward0>)\n",
      "p1111 tensor([[0.0039]], device='cuda:0', grad_fn=<DivBackward0>)\n",
      "fabcd tensor([[10.5632]], device='cuda:0', grad_fn=<ViewBackward0>) tensor([[15.6332]], device='cuda:0', grad_fn=<ViewBackward0>) tensor([[1.6409]], device='cuda:0', grad_fn=<ViewBackward0>) tensor([[10.9264]], device='cuda:0', grad_fn=<ViewBackward0>)\n"
     ]
    },
    {
     "data": {
      "text/plain": [
       "tensor([[[[0.0039]]]], device='cuda:0', grad_fn=<DivBackward0>)"
      ]
     },
     "execution_count": 44,
     "metadata": {},
     "output_type": "execute_result"
    }
   ],
   "source": [
    "def InterpTorchBatch(self, weight: torch.Tensor, res_w: torch.Tensor, sampler: AutoSample,\n",
    "                         upscale, img_in, prev_img, bd, sample=True):\n",
    "        _, _, h, w = img_in.shape\n",
    "        h -= bd\n",
    "        w -= bd\n",
    "\n",
    "        weight = weight * 127\n",
    "        weight = self.round_func(weight)\n",
    "        weight = torch.clamp(weight, -127, 127)\n",
    "\n",
    "        interval = self.interval\n",
    "        q = 2 ** interval\n",
    "        L = 2 ** (8 - interval) + 1\n",
    "\n",
    "        # Auto Sample\n",
    "        if sample:\n",
    "            a,b,c,d=self.sample(sampler, img_in)\n",
    "        else:\n",
    "            assert img_in.shape==(1,1,2,2)\n",
    "            a,b,c,d=img_in.reshape(-1)\n",
    "            a=a.reshape(1,1,1,1)\n",
    "            b=b.reshape(1,1,1,1)\n",
    "            c=c.reshape(1,1,1,1)\n",
    "            d=d.reshape(1,1,1,1)\n",
    "\n",
    "\n",
    "        # Residual\n",
    "        if prev_img != None:\n",
    "            res_w = torch.clamp(res_w, 0, 1)\n",
    "            oa,ob,oc,od=a,b,c,d\n",
    "            pa,pb,pc,pd=self.sample(sampler, prev_img)\n",
    "\n",
    "            a = res_w[0][0]*pa + (1-res_w[0][0])*oa\n",
    "            b = res_w[0][1]*pb + (1-res_w[0][1])*ob\n",
    "            c = res_w[1][0]*pc + (1-res_w[1][0])*oc\n",
    "            d = res_w[1][1]*pd + (1-res_w[1][1])*od\n",
    "\n",
    "        img_a1 = torch.floor_divide(a, q).type(torch.int64)\n",
    "        img_b1 = torch.floor_divide(b, q).type(torch.int64)\n",
    "        img_c1 = torch.floor_divide(c, q).type(torch.int64)\n",
    "        img_d1 = torch.floor_divide(d, q).type(torch.int64)\n",
    "        # print(\"abcd:\", img_a1,img_b1,img_c1,img_d1)\n",
    "        # print(\"abcd*2**4\", img_a1*2**4,img_b1*2**4,img_c1*2**4,img_d1*2**4)\n",
    "\n",
    "        fa = a % q\n",
    "        fb = b % q\n",
    "        fc = c % q\n",
    "        fd = d % q\n",
    "\n",
    "        img_a2 = img_a1 + 1\n",
    "        img_b2 = img_b1 + 1\n",
    "        img_c2 = img_c1 + 1\n",
    "        img_d2 = img_d1 + 1\n",
    "\n",
    "        p0000 = weight[img_a1.flatten() * L * L * L + img_b1.flatten() * L * L + img_c1.flatten() * L + img_d1.flatten()\n",
    "                       ].reshape((img_a1.shape[0], img_a1.shape[1], img_a1.shape[2], img_a1.shape[3], upscale, upscale))\n",
    "        p0001 = weight[img_a1.flatten() * L * L * L + img_b1.flatten() * L * L + img_c1.flatten() * L + img_d2.flatten()\n",
    "                       ].reshape((img_a1.shape[0], img_a1.shape[1], img_a1.shape[2], img_a1.shape[3], upscale, upscale))\n",
    "        p0010 = weight[img_a1.flatten() * L * L * L + img_b1.flatten() * L * L + img_c2.flatten() * L + img_d1.flatten()\n",
    "                       ].reshape((img_a1.shape[0], img_a1.shape[1], img_a1.shape[2], img_a1.shape[3], upscale, upscale))\n",
    "        p0011 = weight[img_a1.flatten() * L * L * L + img_b1.flatten() * L * L + img_c2.flatten() * L + img_d2.flatten()\n",
    "                       ].reshape((img_a1.shape[0], img_a1.shape[1], img_a1.shape[2], img_a1.shape[3], upscale, upscale))\n",
    "        p0100 = weight[img_a1.flatten() * L * L * L + img_b2.flatten() * L * L + img_c1.flatten() * L + img_d1.flatten()\n",
    "                       ].reshape((img_a1.shape[0], img_a1.shape[1], img_a1.shape[2], img_a1.shape[3], upscale, upscale))\n",
    "        p0101 = weight[img_a1.flatten() * L * L * L + img_b2.flatten() * L * L + img_c1.flatten() * L + img_d2.flatten()\n",
    "                       ].reshape((img_a1.shape[0], img_a1.shape[1], img_a1.shape[2], img_a1.shape[3], upscale, upscale))\n",
    "        p0110 = weight[img_a1.flatten() * L * L * L + img_b2.flatten() * L * L + img_c2.flatten() * L + img_d1.flatten()\n",
    "                       ].reshape((img_a1.shape[0], img_a1.shape[1], img_a1.shape[2], img_a1.shape[3], upscale, upscale))\n",
    "        p0111 = weight[img_a1.flatten() * L * L * L + img_b2.flatten() * L * L + img_c2.flatten() * L + img_d2.flatten()\n",
    "                       ].reshape((img_a1.shape[0], img_a1.shape[1], img_a1.shape[2], img_a1.shape[3], upscale, upscale))\n",
    "\n",
    "        p1000 = weight[img_a2.flatten() * L * L * L + img_b1.flatten() * L * L + img_c1.flatten() * L + img_d1.flatten()\n",
    "                       ].reshape((img_a1.shape[0], img_a1.shape[1], img_a1.shape[2], img_a1.shape[3], upscale, upscale))\n",
    "        p1001 = weight[img_a2.flatten() * L * L * L + img_b1.flatten() * L * L + img_c1.flatten() * L + img_d2.flatten()\n",
    "                       ].reshape((img_a1.shape[0], img_a1.shape[1], img_a1.shape[2], img_a1.shape[3], upscale, upscale))\n",
    "        p1010 = weight[img_a2.flatten() * L * L * L + img_b1.flatten() * L * L + img_c2.flatten() * L + img_d1.flatten()\n",
    "                       ].reshape((img_a1.shape[0], img_a1.shape[1], img_a1.shape[2], img_a1.shape[3], upscale, upscale))\n",
    "        p1011 = weight[img_a2.flatten() * L * L * L + img_b1.flatten() * L * L + img_c2.flatten() * L + img_d2.flatten()\n",
    "                       ].reshape((img_a1.shape[0], img_a1.shape[1], img_a1.shape[2], img_a1.shape[3], upscale, upscale))\n",
    "        p1100 = weight[img_a2.flatten() * L * L * L + img_b2.flatten() * L * L + img_c1.flatten() * L + img_d1.flatten()\n",
    "                       ].reshape((img_a1.shape[0], img_a1.shape[1], img_a1.shape[2], img_a1.shape[3], upscale, upscale))\n",
    "        p1101 = weight[img_a2.flatten() * L * L * L + img_b2.flatten() * L * L + img_c1.flatten() * L + img_d2.flatten()\n",
    "                       ].reshape((img_a1.shape[0], img_a1.shape[1], img_a1.shape[2], img_a1.shape[3], upscale, upscale))\n",
    "        p1110 = weight[img_a2.flatten() * L * L * L + img_b2.flatten() * L * L + img_c2.flatten() * L + img_d1.flatten()\n",
    "                       ].reshape((img_a1.shape[0], img_a1.shape[1], img_a1.shape[2], img_a1.shape[3], upscale, upscale))\n",
    "        p1111 = weight[img_a2.flatten() * L * L * L + img_b2.flatten() * L * L + img_c2.flatten() * L + img_d2.flatten()\n",
    "                       ].reshape((img_a1.shape[0], img_a1.shape[1], img_a1.shape[2], img_a1.shape[3], upscale, upscale))\n",
    "\n",
    "        out = torch.zeros((img_a1.shape[0], img_a1.shape[1], img_a1.shape[2],\n",
    "                           img_a1.shape[3], upscale, upscale), dtype=weight.dtype).to(device=weight.device)\n",
    "        sz = img_a1.shape[0] * img_a1.shape[1] * img_a1.shape[2] * img_a1.shape[3]\n",
    "        out = out.reshape(sz, -1)\n",
    "\n",
    "        p0000 = p0000.reshape(sz, -1)\n",
    "        p0100 = p0100.reshape(sz, -1)\n",
    "        p1000 = p1000.reshape(sz, -1)\n",
    "        p1100 = p1100.reshape(sz, -1)\n",
    "        fa = fa.reshape(-1, 1)\n",
    "\n",
    "        p0001 = p0001.reshape(sz, -1)\n",
    "        p0101 = p0101.reshape(sz, -1)\n",
    "        p1001 = p1001.reshape(sz, -1)\n",
    "        p1101 = p1101.reshape(sz, -1)\n",
    "        fb = fb.reshape(-1, 1)\n",
    "        fc = fc.reshape(-1, 1)\n",
    "\n",
    "        p0010 = p0010.reshape(sz, -1)\n",
    "        p0110 = p0110.reshape(sz, -1)\n",
    "        p1010 = p1010.reshape(sz, -1)\n",
    "        p1110 = p1110.reshape(sz, -1)\n",
    "        fd = fd.reshape(-1, 1)\n",
    "\n",
    "        p0011 = p0011.reshape(sz, -1)\n",
    "        p0111 = p0111.reshape(sz, -1)\n",
    "        p1011 = p1011.reshape(sz, -1)\n",
    "        p1111 = p1111.reshape(sz, -1)\n",
    "\n",
    "        print(\"p0000\", (p0000.to(torch.float)+128)/255)\n",
    "        print(\"p1111\", (p1111.to(torch.float)+128)/255)\n",
    "        print(\"fabcd\", fa,fb,fc,fd)\n",
    "\n",
    "        fab = fa > fb;\n",
    "        fac = fa > fc;\n",
    "        fad = fa > fd\n",
    "\n",
    "        fbc = fb > fc;\n",
    "        fbd = fb > fd;\n",
    "        fcd = fc > fd\n",
    "\n",
    "        i1 = i = torch.all(torch.cat([fab, fbc, fcd], dim=1), dim=1)\n",
    "        out[i] = (q - fa[i]) * p0000[i] + (fa[i] - fb[i]) * p1000[i] + (fb[i] - fc[i]) * p1100[i] + (fc[i] - fd[i]) * \\\n",
    "                 p1110[i] + (fd[i]) * p1111[i]\n",
    "        i2 = i = torch.all(torch.cat([~i1[:, None], fab, fbc, fbd], dim=1), dim=1)\n",
    "        out[i] = (q - fa[i]) * p0000[i] + (fa[i] - fb[i]) * p1000[i] + (fb[i] - fd[i]) * p1100[i] + (fd[i] - fc[i]) * \\\n",
    "                 p1101[i] + (fc[i]) * p1111[i]\n",
    "        i3 = i = torch.all(torch.cat([~i1[:, None], ~i2[:, None], fab, fbc, fad], dim=1), dim=1)\n",
    "        out[i] = (q - fa[i]) * p0000[i] + (fa[i] - fd[i]) * p1000[i] + (fd[i] - fb[i]) * p1001[i] + (fb[i] - fc[i]) * \\\n",
    "                 p1101[i] + (fc[i]) * p1111[i]\n",
    "        i4 = i = torch.all(torch.cat([~i1[:, None], ~i2[:, None], ~i3[:, None], fab, fbc], dim=1), dim=1)\n",
    "        out[i] = (q - fd[i]) * p0000[i] + (fd[i] - fa[i]) * p0001[i] + (fa[i] - fb[i]) * p1001[i] + (fb[i] - fc[i]) * \\\n",
    "                 p1101[i] + (fc[i]) * p1111[i]\n",
    "\n",
    "        i5 = i = torch.all(torch.cat([~(fbc), fab, fac, fbd], dim=1), dim=1)\n",
    "        out[i] = (q - fa[i]) * p0000[i] + (fa[i] - fc[i]) * p1000[i] + (fc[i] - fb[i]) * p1010[i] + (fb[i] - fd[i]) * \\\n",
    "                 p1110[i] + (fd[i]) * p1111[i]\n",
    "        i6 = i = torch.all(torch.cat([~(fbc), ~i5[:, None], fab, fac, fcd], dim=1), dim=1)\n",
    "        out[i] = (q - fa[i]) * p0000[i] + (fa[i] - fc[i]) * p1000[i] + (fc[i] - fd[i]) * p1010[i] + (fd[i] - fb[i]) * \\\n",
    "                 p1011[i] + (fb[i]) * p1111[i]\n",
    "        i7 = i = torch.all(torch.cat([~(fbc), ~i5[:, None], ~i6[:, None], fab, fac, fad], dim=1), dim=1)\n",
    "        out[i] = (q - fa[i]) * p0000[i] + (fa[i] - fd[i]) * p1000[i] + (fd[i] - fc[i]) * p1001[i] + (fc[i] - fb[i]) * \\\n",
    "                 p1011[i] + (fb[i]) * p1111[i]\n",
    "        i8 = i = torch.all(torch.cat([~(fbc), ~i5[:, None], ~i6[:, None], ~i7[:, None], fab, fac], dim=1), dim=1)\n",
    "        out[i] = (q - fd[i]) * p0000[i] + (fd[i] - fa[i]) * p0001[i] + (fa[i] - fc[i]) * p1001[i] + (fc[i] - fb[i]) * \\\n",
    "                 p1011[i] + (fb[i]) * p1111[i]\n",
    "\n",
    "        i9 = i = torch.all(torch.cat([~(fbc), ~(fac), fab, fbd], dim=1), dim=1)\n",
    "        out[i] = (q - fc[i]) * p0000[i] + (fc[i] - fa[i]) * p0010[i] + (fa[i] - fb[i]) * p1010[i] + (fb[i] - fd[i]) * \\\n",
    "                 p1110[i] + (fd[i]) * p1111[i]\n",
    "        # Fix the overflow bug in SR-LUT's implementation, should compare fd with fa first!\n",
    "        # i10 = i = torch.all(torch.cat([~(fbc), ~(fac), ~i9[:,None], fab, fcd], dim=1), dim=1)\n",
    "        # out[i] = (q-fc[i]) * p0000[i] + (fc[i]-fa[i]) * p0010[i] + (fa[i]-fd[i]) * p1010[i] + (fd[i]-fb[i]) * p1011[i] + (fb[i]) * p1111[i]\n",
    "        # i11 = i = torch.all(torch.cat([~(fbc), ~(fac), ~i9[:,None], ~i10[:,None], fab, fad], dim=1), dim=1)\n",
    "        # out[i] = (q-fc[i]) * p0000[i] + (fc[i]-fd[i]) * p0010[i] + (fd[i]-fa[i]) * p0011[i] + (fa[i]-fb[i]) * p1011[i] + (fb[i]) * p1111[i]\n",
    "        i10 = i = torch.all(torch.cat([~(fbc), ~(fac), ~i9[:, None], fab, fad], dim=1), dim=1)  # c > a > d > b\n",
    "        out[i] = (q - fc[i]) * p0000[i] + (fc[i] - fa[i]) * p0010[i] + (fa[i] - fd[i]) * p1010[i] + (fd[i] - fb[i]) * \\\n",
    "                 p1011[i] + (fb[i]) * p1111[i]\n",
    "        i11 = i = torch.all(torch.cat([~(fbc), ~(fac), ~i9[:, None], ~i10[:, None], fab, fcd], dim=1),\n",
    "                            dim=1)  # c > d > a > b\n",
    "        out[i] = (q - fc[i]) * p0000[i] + (fc[i] - fd[i]) * p0010[i] + (fd[i] - fa[i]) * p0011[i] + (fa[i] - fb[i]) * \\\n",
    "                 p1011[i] + (fb[i]) * p1111[i]\n",
    "        i12 = i = torch.all(torch.cat([~(fbc), ~(fac), ~i9[:, None], ~i10[:, None], ~i11[:, None], fab], dim=1), dim=1)\n",
    "        out[i] = (q - fd[i]) * p0000[i] + (fd[i] - fc[i]) * p0001[i] + (fc[i] - fa[i]) * p0011[i] + (fa[i] - fb[i]) * \\\n",
    "                 p1011[i] + (fb[i]) * p1111[i]\n",
    "\n",
    "        i13 = i = torch.all(torch.cat([~(fab), fac, fcd], dim=1), dim=1)\n",
    "        out[i] = (q - fb[i]) * p0000[i] + (fb[i] - fa[i]) * p0100[i] + (fa[i] - fc[i]) * p1100[i] + (fc[i] - fd[i]) * \\\n",
    "                 p1110[i] + (fd[i]) * p1111[i]\n",
    "        i14 = i = torch.all(torch.cat([~(fab), ~i13[:, None], fac, fad], dim=1), dim=1)\n",
    "        out[i] = (q - fb[i]) * p0000[i] + (fb[i] - fa[i]) * p0100[i] + (fa[i] - fd[i]) * p1100[i] + (fd[i] - fc[i]) * \\\n",
    "                 p1101[i] + (fc[i]) * p1111[i]\n",
    "        i15 = i = torch.all(torch.cat([~(fab), ~i13[:, None], ~i14[:, None], fac, fbd], dim=1), dim=1)\n",
    "        out[i] = (q - fb[i]) * p0000[i] + (fb[i] - fd[i]) * p0100[i] + (fd[i] - fa[i]) * p0101[i] + (fa[i] - fc[i]) * \\\n",
    "                 p1101[i] + (fc[i]) * p1111[i]\n",
    "        i16 = i = torch.all(torch.cat([~(fab), ~i13[:, None], ~i14[:, None], ~i15[:, None], fac], dim=1), dim=1)\n",
    "        out[i] = (q - fd[i]) * p0000[i] + (fd[i] - fb[i]) * p0001[i] + (fb[i] - fa[i]) * p0101[i] + (fa[i] - fc[i]) * \\\n",
    "                 p1101[i] + (fc[i]) * p1111[i]\n",
    "\n",
    "        i17 = i = torch.all(torch.cat([~(fab), ~(fac), fbc, fad], dim=1), dim=1)\n",
    "        out[i] = (q - fb[i]) * p0000[i] + (fb[i] - fc[i]) * p0100[i] + (fc[i] - fa[i]) * p0110[i] + (fa[i] - fd[i]) * \\\n",
    "                 p1110[i] + (fd[i]) * p1111[i]\n",
    "        i18 = i = torch.all(torch.cat([~(fab), ~(fac), ~i17[:, None], fbc, fcd], dim=1), dim=1)\n",
    "        out[i] = (q - fb[i]) * p0000[i] + (fb[i] - fc[i]) * p0100[i] + (fc[i] - fd[i]) * p0110[i] + (fd[i] - fa[i]) * \\\n",
    "                 p0111[i] + (fa[i]) * p1111[i]\n",
    "        i19 = i = torch.all(torch.cat([~(fab), ~(fac), ~i17[:, None], ~i18[:, None], fbc, fbd], dim=1), dim=1)\n",
    "        out[i] = (q - fb[i]) * p0000[i] + (fb[i] - fd[i]) * p0100[i] + (fd[i] - fc[i]) * p0101[i] + (fc[i] - fa[i]) * \\\n",
    "                 p0111[i] + (fa[i]) * p1111[i]\n",
    "        i20 = i = torch.all(torch.cat([~(fab), ~(fac), ~i17[:, None], ~i18[:, None], ~i19[:, None], fbc], dim=1), dim=1)\n",
    "        out[i] = (q - fd[i]) * p0000[i] + (fd[i] - fb[i]) * p0001[i] + (fb[i] - fc[i]) * p0101[i] + (fc[i] - fa[i]) * \\\n",
    "                 p0111[i] + (fa[i]) * p1111[i]\n",
    "\n",
    "        i21 = i = torch.all(torch.cat([~(fab), ~(fac), ~(fbc), fad], dim=1), dim=1)\n",
    "        out[i] = (q - fc[i]) * p0000[i] + (fc[i] - fb[i]) * p0010[i] + (fb[i] - fa[i]) * p0110[i] + (fa[i] - fd[i]) * \\\n",
    "                 p1110[i] + (fd[i]) * p1111[i]\n",
    "        i22 = i = torch.all(torch.cat([~(fab), ~(fac), ~(fbc), ~i21[:, None], fbd], dim=1), dim=1)\n",
    "        out[i] = (q - fc[i]) * p0000[i] + (fc[i] - fb[i]) * p0010[i] + (fb[i] - fd[i]) * p0110[i] + (fd[i] - fa[i]) * \\\n",
    "                 p0111[i] + (fa[i]) * p1111[i]\n",
    "        i23 = i = torch.all(torch.cat([~(fab), ~(fac), ~(fbc), ~i21[:, None], ~i22[:, None], fcd], dim=1), dim=1)\n",
    "        out[i] = (q - fc[i]) * p0000[i] + (fc[i] - fd[i]) * p0010[i] + (fd[i] - fb[i]) * p0011[i] + (fb[i] - fa[i]) * \\\n",
    "                 p0111[i] + (fa[i]) * p1111[i]\n",
    "        i24 = i = torch.all(torch.cat([~(fab), ~(fac), ~(fbc), ~i21[:, None], ~i22[:, None], ~i23[:, None]], dim=1),\n",
    "                            dim=1)\n",
    "        out[i] = (q - fd[i]) * p0000[i] + (fd[i] - fc[i]) * p0001[i] + (fc[i] - fb[i]) * p0011[i] + (fb[i] - fa[i]) * \\\n",
    "                 p0111[i] + (fa[i]) * p1111[i]\n",
    "        out = out.reshape((img_a1.shape[0], img_a1.shape[1], img_a1.shape[2], img_a1.shape[3], upscale, upscale))\n",
    "        out = out.permute(0, 1, 2, 4, 3, 5).reshape(\n",
    "            (img_a1.shape[0], img_a1.shape[1], img_a1.shape[2] * upscale, img_a1.shape[3] * upscale))\n",
    "        out = out / q\n",
    "        return out\n",
    "\n",
    "print(\"key:\", key)\n",
    "a=InterpTorchBatch(\n",
    "    lutnet,\n",
    "    getattr(lutnet, 'weight_'+key),\n",
    "    None,\n",
    "    getattr(lutnet, key+'_sampler'),\n",
    "    1,\n",
    "    small_img*255,\n",
    "    None,\n",
    "    2\n",
    ")\n",
    "(a+128)/255"
   ]
  },
  {
   "cell_type": "markdown",
   "metadata": {},
   "source": [
    "Before removing `base[-1] -= 1`:\n",
    "```python3\n",
    "key: s0_1\n",
    "abcd: tensor([[[[15]]]], device='cuda:0') tensor([[[[15]]]], device='cuda:0') tensor([[[[15]]]], device='cuda:0') tensor([[[[15]]]], device='cuda:0')\n",
    "abcd*2**4 tensor([[[[240]]]], device='cuda:0') tensor([[[[240]]]], device='cuda:0') tensor([[[[240]]]], device='cuda:0') tensor([[[[240]]]], device='cuda:0')\n",
    "p0000 tensor([[0.4627]], device='cuda:0', grad_fn=<DivBackward0>)\n",
    "p1111 tensor([[0.5529]], device='cuda:0', grad_fn=<DivBackward0>)\n",
    "fabcd tensor([[15.0000]], device='cuda:0', grad_fn=<ViewBackward0>) tensor([[15.]], device='cuda:0', grad_fn=<ViewBackward0>) tensor([[15.0000]], device='cuda:0', grad_fn=<ViewBackward0>) tensor([[15.]], device='cuda:0', grad_fn=<ViewBackward0>)\n",
    "```"
   ]
  },
  {
   "cell_type": "code",
   "execution_count": 45,
   "metadata": {},
   "outputs": [],
   "source": [
    "def get_input_tensor():\n",
    "    # 1D input\n",
    "    base = torch.arange(0, 257, 2 ** 4)  # 0-256\n",
    "    # base[-1] -= 1\n",
    "    L = base.size(0)\n",
    "\n",
    "    # 2D input\n",
    "    # 256*256   0 0 0...    |1 1 1...     |...|255 255 255...\n",
    "    first = base.cuda().unsqueeze(1).repeat(1, L).reshape(-1)\n",
    "    # 256*256   0 1 2 .. 255|0 1 2 ... 255|...|0 1 2 ... 255\n",
    "    second = base.cuda().repeat(L)\n",
    "    onebytwo = torch.stack([first, second], 1)  # [256*256, 2]\n",
    "\n",
    "    # 3D input\n",
    "    # 256*256*256   0 x65536|1 x65536|...|255 x65536\n",
    "    third = base.cuda().unsqueeze(1).repeat(1, L * L).reshape(-1)\n",
    "    onebytwo = onebytwo.repeat(L, 1)\n",
    "    onebythree = torch.cat(\n",
    "        [third.unsqueeze(1), onebytwo], 1)  # [256*256*256, 3]\n",
    "\n",
    "    # 4D input\n",
    "    fourth = base.cuda().unsqueeze(1).repeat(1, L * L * L).reshape(\n",
    "        -1)  # 256*256*256*256   0 x16777216|1 x16777216|...|255 x16777216\n",
    "    onebythree = onebythree.repeat(L, 1)\n",
    "    # [256*256*256*256, 4]\n",
    "    onebyfourth = torch.cat([fourth.unsqueeze(1), onebythree], 1)\n",
    "\n",
    "    # Rearange input: [N, 4] -> [N, C=1, H=2, W=2]\n",
    "    input_tensor = onebyfourth.unsqueeze(1).unsqueeze(\n",
    "        1).reshape(-1, 1, 2, 2).float() / 255.0\n",
    "    return input_tensor\n",
    "\n",
    "\n",
    "input_tensor=get_input_tensor()"
   ]
  },
  {
   "cell_type": "code",
   "execution_count": 46,
   "metadata": {},
   "outputs": [
    {
     "ename": "FileNotFoundError",
     "evalue": "[Errno 2] No such file or directory: '../models/3x3-lut-playground-1/LUT_x4_4bit_int8_s1_1.npy'",
     "output_type": "error",
     "traceback": [
      "\u001b[0;31m---------------------------------------------------------------------------\u001b[0m",
      "\u001b[0;31mFileNotFoundError\u001b[0m                         Traceback (most recent call last)",
      "Cell \u001b[0;32mIn[46], line 2\u001b[0m\n\u001b[1;32m      1\u001b[0m key\u001b[38;5;241m=\u001b[39m\u001b[38;5;124m'\u001b[39m\u001b[38;5;124ms1_1\u001b[39m\u001b[38;5;124m'\u001b[39m\n\u001b[0;32m----> 2\u001b[0m lut_w\u001b[38;5;241m=\u001b[39m\u001b[43mnp\u001b[49m\u001b[38;5;241;43m.\u001b[39;49m\u001b[43mload\u001b[49m\u001b[43m(\u001b[49m\u001b[38;5;124;43mf\u001b[39;49m\u001b[38;5;124;43m\"\u001b[39;49m\u001b[38;5;124;43m../models/3x3-lut-playground-1/LUT_x4_4bit_int8_\u001b[39;49m\u001b[38;5;132;43;01m{\u001b[39;49;00m\u001b[43mkey\u001b[49m\u001b[38;5;132;43;01m}\u001b[39;49;00m\u001b[38;5;124;43m.npy\u001b[39;49m\u001b[38;5;124;43m\"\u001b[39;49m\u001b[43m)\u001b[49m\n\u001b[1;32m      3\u001b[0m interval\u001b[38;5;241m=\u001b[39m\u001b[38;5;241m4\u001b[39m\n\u001b[1;32m      4\u001b[0m L \u001b[38;5;241m=\u001b[39m \u001b[38;5;241m2\u001b[39m \u001b[38;5;241m*\u001b[39m\u001b[38;5;241m*\u001b[39m (\u001b[38;5;241m8\u001b[39m \u001b[38;5;241m-\u001b[39m interval) \u001b[38;5;241m+\u001b[39m \u001b[38;5;241m1\u001b[39m\n",
      "File \u001b[0;32m~/miniconda3/envs/pytorch/lib/python3.12/site-packages/numpy/lib/npyio.py:427\u001b[0m, in \u001b[0;36mload\u001b[0;34m(file, mmap_mode, allow_pickle, fix_imports, encoding, max_header_size)\u001b[0m\n\u001b[1;32m    425\u001b[0m     own_fid \u001b[38;5;241m=\u001b[39m \u001b[38;5;28;01mFalse\u001b[39;00m\n\u001b[1;32m    426\u001b[0m \u001b[38;5;28;01melse\u001b[39;00m:\n\u001b[0;32m--> 427\u001b[0m     fid \u001b[38;5;241m=\u001b[39m stack\u001b[38;5;241m.\u001b[39menter_context(\u001b[38;5;28;43mopen\u001b[39;49m\u001b[43m(\u001b[49m\u001b[43mos_fspath\u001b[49m\u001b[43m(\u001b[49m\u001b[43mfile\u001b[49m\u001b[43m)\u001b[49m\u001b[43m,\u001b[49m\u001b[43m \u001b[49m\u001b[38;5;124;43m\"\u001b[39;49m\u001b[38;5;124;43mrb\u001b[39;49m\u001b[38;5;124;43m\"\u001b[39;49m\u001b[43m)\u001b[49m)\n\u001b[1;32m    428\u001b[0m     own_fid \u001b[38;5;241m=\u001b[39m \u001b[38;5;28;01mTrue\u001b[39;00m\n\u001b[1;32m    430\u001b[0m \u001b[38;5;66;03m# Code to distinguish from NumPy binary files and pickles.\u001b[39;00m\n",
      "\u001b[0;31mFileNotFoundError\u001b[0m: [Errno 2] No such file or directory: '../models/3x3-lut-playground-1/LUT_x4_4bit_int8_s1_1.npy'"
     ]
    }
   ],
   "source": [
    "key='s1_1'\n",
    "lut_w=np.load(f\"../models/3x3-lut-playground-1/LUT_x4_4bit_int8_{key}.npy\")\n",
    "interval=4\n",
    "L = 2 ** (8 - interval) + 1\n",
    "\n",
    "def lookup(a,b,c,d):\n",
    "    # a,b,c,d 0~255, returns -128~127\n",
    "    a,b,c,d=int(a//2**interval), int(b//2**interval), int(c//2**interval), int(d//2**interval)\n",
    "    print(\"look up using indexes\", a*2**interval, b*2**interval, c*2**interval, d*2**interval)\n",
    "    index=a*L*L*L+b*L*L+c*L+d\n",
    "    print(\"gen lut input\", input_tensor[index]*255)\n",
    "    val=lut_w[index]\n",
    "    return val\n",
    "\n",
    "def interp(x, sample=False, prev_img=None):\n",
    "    img_in=x\n",
    "    stage=int(key[1])\n",
    "\n",
    "    if sample:\n",
    "        sampler=getattr(lutnet, key+'_sampler')\n",
    "    else:\n",
    "        sampler=None\n",
    "    interp=InterpTorchBatch(\n",
    "        lutnet,\n",
    "        getattr(lutnet, 'weight_'+key),\n",
    "        getattr(lutnet, key+'_residual'),\n",
    "        sampler,\n",
    "        1 if stage==0 else 4,\n",
    "        img_in,\n",
    "        prev_img,\n",
    "        3-1,\n",
    "        sample=sample\n",
    "    )\n",
    "    return interp\n",
    "\n",
    "def sr(x, sample=False, prev_img=None):\n",
    "    x = x/255.0   # 0~1\n",
    "    prev_img = prev_img/255 if prev_img!=None else None\n",
    "    srnet=getattr(network, key)\n",
    "    srnet.model.has_residual=bool(prev_img!=None)\n",
    "    if sample:\n",
    "        calc=srnet(x, prev_x=prev_img)\n",
    "    else:\n",
    "        calc=srnet.model(x, prev_x=prev_img)\n",
    "    calc=calc*127\n",
    "    return calc\n",
    "\n",
    "def cmp(x, prev_x, sample:bool):\n",
    "    target_len=network.sample_size if sample else 2\n",
    "\n",
    "    x=torch.tensor(x, dtype=torch.float32).cuda()\n",
    "    x=x.reshape(1,1,target_len,target_len)\n",
    "    if prev_x!=None:\n",
    "        prev_x=torch.tensor(prev_x, dtype=torch.float32).cuda()\n",
    "        prev_x=prev_x.reshape(1,1,target_len,target_len)\n",
    "\n",
    "    # lookup_res=lookup(*x)\n",
    "    interp_res=interp(x, sample, prev_x)\n",
    "    sr_res=sr(x, sample, prev_x)\n",
    "    # print(\"look up\", lookup_res)\n",
    "    print(\"interp\", interp_res)\n",
    "    print(\"sr\", sr_res)\n",
    "    fig, (pa, pb, pc, )=plt.subplots(1,3)\n",
    "    # showimg(torch.tensor(lookup_res).unsqueeze(0)/255+0.5, pa)\n",
    "    showimg(torch.tensor(interp_res)/255+0.5, pb)\n",
    "    showimg(torch.tensor(sr_res)/255+0.5, pc)\n",
    "\n",
    "a=(240,240,240,240)\n",
    "b=(256,)*4\n",
    "cmp(x=torch.rand(5,5)*255, prev_x=torch.rand(5,5)*255, sample=True)"
   ]
  },
  {
   "cell_type": "markdown",
   "metadata": {},
   "source": [
    "Ok, it seems that residual layer is to blame: without it the images look super similar, but with it there are visible differences and the numbers are wildly different. \n",
    "\n",
    "Let's do AutoSample and Residual only, on network and LUT, to see what's going wrong. "
   ]
  },
  {
   "cell_type": "code",
   "execution_count": 53,
   "metadata": {},
   "outputs": [
    {
     "data": {
      "text/plain": [
       "tensor([[[[0.4349, 0.4132, 0.3903, 0.3394, 0.6385, 0.5099, 0.4920, 0.6413,\n",
       "           0.3112, 0.2832, 0.3142, 0.2904, 0.2807, 0.7729, 0.6004, 0.2018],\n",
       "          [0.6529, 0.4129, 0.5278, 0.8174, 0.2951, 0.4707, 0.5219, 0.2289,\n",
       "           0.6877, 0.5916, 0.6375, 0.4942, 0.4658, 0.6017, 0.5774, 0.3306],\n",
       "          [0.3600, 0.6032, 0.5454, 0.4096, 0.6055, 0.4635, 0.4707, 0.5182,\n",
       "           0.5273, 0.5528, 0.4757, 0.7480, 0.3184, 0.3848, 0.4190, 0.4777],\n",
       "          [0.5389, 0.5249, 0.5634, 0.1755, 0.3568, 0.4947, 0.4288, 0.5469,\n",
       "           0.4597, 0.3547, 0.3768, 0.4269, 0.3436, 0.4747, 0.5486, 0.3702],\n",
       "          [0.3665, 0.5448, 0.6023, 0.3546, 0.4203, 0.3789, 0.5088, 0.2653,\n",
       "           0.7070, 0.5321, 0.5783, 0.6657, 0.5789, 0.4087, 0.4645, 0.6570],\n",
       "          [0.3157, 0.5639, 0.4731, 0.4910, 0.6591, 0.4345, 0.5115, 0.7404,\n",
       "           0.3947, 0.4282, 0.4125, 0.3320, 0.4511, 0.6214, 0.4308, 0.6363],\n",
       "          [0.2280, 0.5120, 0.3955, 0.1579, 0.4279, 0.2320, 0.3019, 0.6411,\n",
       "           0.3900, 0.3591, 0.3315, 0.1859, 0.5492, 0.3593, 0.4097, 0.4167],\n",
       "          [0.4805, 0.6475, 0.6120, 0.5479, 0.7645, 0.3580, 0.4246, 0.7128,\n",
       "           0.2538, 0.6523, 0.5643, 0.2117, 0.7091, 0.7268, 0.7449, 0.7869],\n",
       "          [0.2365, 0.4597, 0.4174, 0.3244, 0.4468, 0.4741, 0.4340, 0.2102,\n",
       "           0.2368, 0.5088, 0.3762, 0.3536, 0.5742, 0.3385, 0.2844, 0.7791],\n",
       "          [0.5458, 0.6317, 0.5589, 0.6879, 0.6169, 0.3474, 0.4371, 0.3872,\n",
       "           0.3652, 0.4506, 0.4180, 0.6476, 0.7027, 0.4175, 0.5478, 0.6918],\n",
       "          [0.2824, 0.5173, 0.5019, 0.2166, 0.4530, 0.5930, 0.5711, 0.6640,\n",
       "           0.5323, 0.6702, 0.6953, 0.7234, 0.8129, 0.2782, 0.3882, 0.8151],\n",
       "          [0.5002, 0.5858, 0.5269, 0.4058, 0.5397, 0.4897, 0.5503, 0.6326,\n",
       "           0.5894, 0.3700, 0.3533, 0.5948, 0.4199, 0.3277, 0.2804, 0.1990],\n",
       "          [0.5337, 0.4256, 0.4310, 0.8301, 0.4642, 0.5058, 0.4866, 0.2733,\n",
       "           0.6532, 0.6021, 0.6461, 0.6575, 0.7225, 0.2657, 0.3891, 0.5717],\n",
       "          [0.2615, 0.4197, 0.3647, 0.1878, 0.6086, 0.4971, 0.5367, 0.6293,\n",
       "           0.6577, 0.5460, 0.5392, 0.7185, 0.5071, 0.4853, 0.4446, 0.8260],\n",
       "          [0.8161, 0.5190, 0.5690, 0.7219, 0.3881, 0.6259, 0.5024, 0.5693,\n",
       "           0.5383, 0.4267, 0.4681, 0.4557, 0.6254, 0.4078, 0.4304, 0.6461],\n",
       "          [0.3029, 0.3669, 0.3384, 0.4864, 0.4743, 0.7212, 0.5849, 0.4002,\n",
       "           0.8036, 0.4591, 0.4911, 0.8589, 0.7309, 0.6933, 0.6291, 0.6412]]]],\n",
       "       device='cuda:0', grad_fn=<ViewBackward0>)"
      ]
     },
     "metadata": {},
     "output_type": "display_data"
    },
    {
     "data": {
      "text/plain": [
       "tensor([[[[0.4349, 0.4132, 0.3903, 0.3394, 0.6385, 0.5099, 0.4920, 0.6413,\n",
       "           0.3112, 0.2832, 0.3142, 0.2904, 0.2807, 0.7729, 0.6004, 0.2018],\n",
       "          [0.6529, 0.4129, 0.5278, 0.8174, 0.2951, 0.4707, 0.5219, 0.2289,\n",
       "           0.6877, 0.5916, 0.6375, 0.4942, 0.4658, 0.6017, 0.5774, 0.3306],\n",
       "          [0.3600, 0.6032, 0.5454, 0.4096, 0.6055, 0.4635, 0.4707, 0.5182,\n",
       "           0.5273, 0.5528, 0.4757, 0.7480, 0.3184, 0.3848, 0.4190, 0.4777],\n",
       "          [0.5389, 0.5249, 0.5634, 0.1755, 0.3568, 0.4947, 0.4288, 0.5469,\n",
       "           0.4597, 0.3547, 0.3768, 0.4269, 0.3436, 0.4747, 0.5486, 0.3702],\n",
       "          [0.3665, 0.5448, 0.6023, 0.3546, 0.4203, 0.3789, 0.5088, 0.2653,\n",
       "           0.7070, 0.5321, 0.5783, 0.6657, 0.5789, 0.4087, 0.4645, 0.6570],\n",
       "          [0.3157, 0.5639, 0.4731, 0.4910, 0.6591, 0.4345, 0.5115, 0.7404,\n",
       "           0.3947, 0.4282, 0.4125, 0.3320, 0.4511, 0.6214, 0.4308, 0.6363],\n",
       "          [0.2280, 0.5120, 0.3955, 0.1579, 0.4279, 0.2320, 0.3019, 0.6411,\n",
       "           0.3900, 0.3591, 0.3315, 0.1859, 0.5492, 0.3593, 0.4097, 0.4167],\n",
       "          [0.4805, 0.6475, 0.6120, 0.5479, 0.7645, 0.3580, 0.4246, 0.7128,\n",
       "           0.2538, 0.6523, 0.5643, 0.2117, 0.7091, 0.7268, 0.7449, 0.7869],\n",
       "          [0.2365, 0.4597, 0.4174, 0.3244, 0.4468, 0.4741, 0.4340, 0.2102,\n",
       "           0.2368, 0.5088, 0.3762, 0.3536, 0.5742, 0.3385, 0.2844, 0.7791],\n",
       "          [0.5458, 0.6317, 0.5589, 0.6879, 0.6169, 0.3474, 0.4371, 0.3872,\n",
       "           0.3652, 0.4506, 0.4180, 0.6476, 0.7027, 0.4175, 0.5478, 0.6918],\n",
       "          [0.2824, 0.5173, 0.5019, 0.2166, 0.4530, 0.5930, 0.5711, 0.6640,\n",
       "           0.5323, 0.6702, 0.6953, 0.7234, 0.8129, 0.2782, 0.3882, 0.8151],\n",
       "          [0.5002, 0.5858, 0.5269, 0.4058, 0.5397, 0.4897, 0.5503, 0.6326,\n",
       "           0.5894, 0.3700, 0.3533, 0.5948, 0.4199, 0.3277, 0.2804, 0.1990],\n",
       "          [0.5337, 0.4256, 0.4310, 0.8301, 0.4642, 0.5058, 0.4866, 0.2733,\n",
       "           0.6532, 0.6021, 0.6461, 0.6575, 0.7225, 0.2657, 0.3891, 0.5717],\n",
       "          [0.2615, 0.4197, 0.3647, 0.1878, 0.6086, 0.4971, 0.5367, 0.6293,\n",
       "           0.6577, 0.5460, 0.5392, 0.7185, 0.5071, 0.4853, 0.4446, 0.8260],\n",
       "          [0.8161, 0.5190, 0.5690, 0.7219, 0.3881, 0.6259, 0.5024, 0.5693,\n",
       "           0.5383, 0.4267, 0.4681, 0.4557, 0.6254, 0.4078, 0.4304, 0.6461],\n",
       "          [0.3029, 0.3669, 0.3384, 0.4864, 0.4743, 0.7212, 0.5849, 0.4002,\n",
       "           0.8036, 0.4591, 0.4911, 0.8589, 0.7309, 0.6933, 0.6291, 0.6412]]]],\n",
       "       device='cuda:0', grad_fn=<ViewBackward0>)"
      ]
     },
     "metadata": {},
     "output_type": "display_data"
    },
    {
     "data": {
      "text/plain": [
       "tensor([[[[0., 0., 0., 0., 0., 0., 0., 0., 0., 0., 0., 0., 0., 0., 0., 0.],\n",
       "          [0., 0., 0., 0., 0., 0., 0., 0., 0., 0., 0., 0., 0., 0., 0., 0.],\n",
       "          [0., 0., 0., 0., 0., 0., 0., 0., 0., 0., 0., 0., 0., 0., 0., 0.],\n",
       "          [0., 0., 0., 0., 0., 0., 0., 0., 0., 0., 0., 0., 0., 0., 0., 0.],\n",
       "          [0., 0., 0., 0., 0., 0., 0., 0., 0., 0., 0., 0., 0., 0., 0., 0.],\n",
       "          [0., 0., 0., 0., 0., 0., 0., 0., 0., 0., 0., 0., 0., 0., 0., 0.],\n",
       "          [0., 0., 0., 0., 0., 0., 0., 0., 0., 0., 0., 0., 0., 0., 0., 0.],\n",
       "          [0., 0., 0., 0., 0., 0., 0., 0., 0., 0., 0., 0., 0., 0., 0., 0.],\n",
       "          [0., 0., 0., 0., 0., 0., 0., 0., 0., 0., 0., 0., 0., 0., 0., 0.],\n",
       "          [0., 0., 0., 0., 0., 0., 0., 0., 0., 0., 0., 0., 0., 0., 0., 0.],\n",
       "          [0., 0., 0., 0., 0., 0., 0., 0., 0., 0., 0., 0., 0., 0., 0., 0.],\n",
       "          [0., 0., 0., 0., 0., 0., 0., 0., 0., 0., 0., 0., 0., 0., 0., 0.],\n",
       "          [0., 0., 0., 0., 0., 0., 0., 0., 0., 0., 0., 0., 0., 0., 0., 0.],\n",
       "          [0., 0., 0., 0., 0., 0., 0., 0., 0., 0., 0., 0., 0., 0., 0., 0.],\n",
       "          [0., 0., 0., 0., 0., 0., 0., 0., 0., 0., 0., 0., 0., 0., 0., 0.],\n",
       "          [0., 0., 0., 0., 0., 0., 0., 0., 0., 0., 0., 0., 0., 0., 0., 0.]]]],\n",
       "       device='cuda:0', grad_fn=<MulBackward0>)"
      ]
     },
     "execution_count": 53,
     "metadata": {},
     "output_type": "execute_result"
    },
    {
     "data": {
      "image/png": "[encoded data removed]",
      "text/plain": [
       "<Figure size 640x480 with 2 Axes>"
      ]
     },
     "metadata": {},
     "output_type": "display_data"
    }
   ],
   "source": [
    "key='s1_0'\n",
    "\n",
    "srnet: SRNet=getattr(network,key)\n",
    "sr_res=srnet.model.residual\n",
    "\n",
    "interp_sample=getattr(lutnet, key+'_sampler')\n",
    "interp_res=getattr(lutnet, key+'_residual')\n",
    "interp_res=torch.clamp(interp_res, 0, 1)\n",
    "\n",
    "assert (sr_res.weights==interp_res).all(), \"weights not equal\"\n",
    "assert (srnet.sampler.sampler.weight==interp_sample.sampler.weight).all(), \"weights not equal\"\n",
    "\n",
    "def srnet_run(x, prev_x):\n",
    "    # x: 0~1\n",
    "    assert srnet.K==srnet.sampler.input_shape\n",
    "    x, shape = srnet.unfold(x) # B*C*L, 1, K, K\n",
    "    prev_x, _ = srnet.unfold(prev_x)\n",
    "\n",
    "    x = srnet.sampler(x)    # B*C*L, 1, 2, 2\n",
    "    prev_x = srnet.sampler(prev_x)\n",
    "    # print(f\"Network, x:\\n{x} \\nprev_x:\\n{prev_x}\")\n",
    "\n",
    "    # self.model(x, prev_x)\n",
    "    x = sr_res(x, prev_x)\n",
    "    return x    # B*C*L, 1, 2, 2\n",
    "\n",
    "def interp_run(x, prev_x):\n",
    "    a,b,c,d = lutnet.sample(interp_sample, x)\n",
    "    res_w = torch.clamp(interp_res, 0, 1)\n",
    "    oa, ob, oc, od = a, b, c, d\n",
    "    pa, pb, pc, pd = lutnet.sample(interp_sample, prev_x)\n",
    "    # print(f\"LUT, x: {a.item()} {b.item()} {c.item()} {d.item()}\\n prev_x: {pa.item()} {pb.item()} {pc.item()} {pd.item()}\")\n",
    "\n",
    "    a = res_w[0][0]*pa + (1-res_w[0][0])*oa\n",
    "    b = res_w[0][1]*pb + (1-res_w[0][1])*ob\n",
    "    c = res_w[1][0]*pc + (1-res_w[1][0])*oc\n",
    "    d = res_w[1][1]*pd + (1-res_w[1][1])*od\n",
    "\n",
    "    B, C, H, W = x.shape\n",
    "    a = a.view(-1, 1, 1, 1) # B*C*L, 1, 1, 1\n",
    "    b = b.view(-1, 1, 1, 1)\n",
    "    c = c.view(-1, 1, 1, 1)\n",
    "    d = d.view(-1, 1, 1, 1)\n",
    "\n",
    "    upper = torch.cat([a,b], dim=3)\n",
    "    lower = torch.cat([c,d], dim=3)\n",
    "    x = torch.cat([upper, lower], dim=2) # B*C*L, 1, 2, 2\n",
    "\n",
    "    return x\n",
    "\n",
    "H, W = 10,10\n",
    "image=torch.rand(1,1,H,W).cuda()\n",
    "# image = torch.tensor([1,5,3,2,4,6,7,5,3]).view(1,1,H,W).cuda()\n",
    "image = image / image.max()\n",
    "prev_image=torch.rand(1,1,H,W).cuda()\n",
    "# prev_image = torch.tensor([4,6,7,4,3,2,5,7,5]).view(1,1,H,W).cuda()\n",
    "prev_image = prev_image / prev_image.max()\n",
    "L = (H - (3-1)) * (W - (3-1))\n",
    "\n",
    "target_shape = (1,1,(H - (network.sample_size-1))*2,(H - (network.sample_size-1))*2)\n",
    "sr_out=srnet_run(image, prev_image).reshape(target_shape)\n",
    "lut_out=interp_run(image, prev_image).reshape(target_shape)\n",
    "\n",
    "figure, (pa, pb)=plt.subplots(1,2)\n",
    "showimg(sr_out, pa)\n",
    "showimg(lut_out, pb)\n",
    "display(sr_out)\n",
    "display(lut_out)\n",
    "(sr_out-lut_out)*255"
   ]
  }
 ],
 "metadata": {
  "kernelspec": {
   "display_name": "Python 3",
   "language": "python",
   "name": "python3"
  },
  "language_info": {
   "codemirror_mode": {
    "name": "ipython",
    "version": 3
   },
   "file_extension": ".py",
   "mimetype": "text/x-python",
   "name": "python",
   "nbconvert_exporter": "python",
   "pygments_lexer": "ipython3",
   "version": "3.12.2"
  }
 },
 "nbformat": 4,
 "nbformat_minor": 2
}
